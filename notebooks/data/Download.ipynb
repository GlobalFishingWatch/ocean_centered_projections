{
 "cells": [
  {
   "cell_type": "code",
   "execution_count": 1,
   "id": "05e25435-4ec9-4072-9a2c-d2eba659a018",
   "metadata": {},
   "outputs": [],
   "source": [
    "import csv\n",
    "import numpy as np\n",
    "import pandas as pd\n",
    "import sys\n",
    "import tifffile\n",
    "import zipfile\n",
    "from datetime import datetime, timedelta\n",
    "from scipy.interpolate import RegularGridInterpolator\n",
    "import numpy as np"
   ]
  },
  {
   "cell_type": "markdown",
   "id": "7a5d118e-83ed-4b25-bec7-dde5d02f219f",
   "metadata": {},
   "source": [
    "Grab some example data\n",
    "\n",
    "Download bathymetry.zip from https://globalfishingwatch.org/data-download/datasets/public-bathymetry-v1. You'll need to register for a free account. I found that Safari had problems downloading from the our public data, so you may want to use a different browser. Copy the file to the untracked directory or edit the location below.\n",
    "\n",
    "Then download fleet-daily-csvs-100-v2-2020.zip from https://globalfishingwatch.org/data-download/datasets/public-fishing-effort."
   ]
  },
  {
   "cell_type": "code",
   "execution_count": 2,
   "id": "363bfe91-2a30-4d5c-a2b3-8c12cc728402",
   "metadata": {},
   "outputs": [
    {
     "name": "stdout",
     "output_type": "stream",
     "text": [
      " 1:...............................\n",
      " 2:.............................\n",
      " 3:...............................\n",
      " 4:..............................\n",
      " 5:...............................\n",
      " 6:..............................\n",
      " 7:...............................\n",
      " 8:...............................\n",
      " 9:..............................\n",
      "10:...............................\n",
      "11:..............................\n",
      "12:..............................."
     ]
    }
   ],
   "source": [
    "fleet_path = '../../untracked/fleet-daily-csvs-100-v2-2020.zip'\n",
    "start_date = datetime(2020, 1, 1)\n",
    "end_date = datetime(2020, 12, 31) \n",
    "\n",
    "# Fishing data is stored in a stack of daily CSVs, so add them up\n",
    "# This takes a few minutes.\n",
    "activity_raster = np.zeros([180 * 100, 360 * 100])\n",
    "date = start_date\n",
    "with zipfile.ZipFile(fleet_path) as archive:\n",
    "    while date <= end_date:\n",
    "        # Provide some feedback so we can tell something is happening\n",
    "        if date.day == 1:\n",
    "            if date != start_date:\n",
    "                print()\n",
    "            print(f'{date.month:>2d}:', end='')\n",
    "        print('.', flush=True, end='')\n",
    "        with archive.open(f'fleet-daily-csvs-100-v2-2020/{date:%Y-%m-%d.csv}') as f:\n",
    "            df = pd.read_csv(f)\n",
    "            i = ((df.cell_ll_lat.values + 90) * 100).astype(int)\n",
    "            j = ((df.cell_ll_lon.values + 180) * 100).astype(int)\n",
    "            activity_raster[i, j] += df.hours\n",
    "        date += timedelta(days=1)\n",
    "\n"
   ]
  },
  {
   "cell_type": "code",
   "execution_count": 3,
   "id": "ad19dc8e-8f2f-4ace-b9c6-505ed7d722c7",
   "metadata": {},
   "outputs": [],
   "source": [
    "bathymetry_path = '../../untracked/bathymetry.zip'\n",
    "with zipfile.ZipFile(bathymetry_path) as archive:\n",
    "    with archive.open('bathymetry.tif') as f:\n",
    "        bathymetry_raster = tifffile.imread(f)\n",
    "# Bathymetry raster is upside down from how we expect it, so flip it\n",
    "bathymetry_raster = bathymetry_raster[::-1]"
   ]
  },
  {
   "cell_type": "code",
   "execution_count": 4,
   "id": "fb405519-81b7-4788-883f-09cc32bdfeba",
   "metadata": {},
   "outputs": [],
   "source": [
    "# The activate data is at 1/100th of a degree  while the bathymetry is at 1/120th, so\n",
    "# compromise on 1/10th of a degree since that's easier to plot anyway\n",
    "h, w = bathymetry_raster.shape\n",
    "raster = bathymetry_raster.reshape(h // 12, 12, w // 12, 12).mean(axis=(1, 3))\n",
    "np.savez('../../untracked/bathymetry.npz', bathymetry=raster)\n",
    "# We multiply presence by 100 here to put this on a similar scale as another presence raster\n",
    "# I am using. A bit arbitrary, but makes this simpler to keep in sync.\n",
    "h, w = activity_raster.shape\n",
    "raster = activity_raster.reshape(h // 10, 10, w // 10, 10).mean(axis=(1, 3))                               \n",
    "np.savez('../../untracked/presence.npz', presence=100 * raster)"
   ]
  },
  {
   "cell_type": "code",
   "execution_count": null,
   "id": "8402bd42-261e-4e24-b2bc-9011f899d7b8",
   "metadata": {},
   "outputs": [],
   "source": []
  }
 ],
 "metadata": {
  "kernelspec": {
   "display_name": "Python 3 (ipykernel)",
   "language": "python",
   "name": "python3"
  },
  "language_info": {
   "codemirror_mode": {
    "name": "ipython",
    "version": 3
   },
   "file_extension": ".py",
   "mimetype": "text/x-python",
   "name": "python",
   "nbconvert_exporter": "python",
   "pygments_lexer": "ipython3",
   "version": "3.11.6"
  }
 },
 "nbformat": 4,
 "nbformat_minor": 5
}
